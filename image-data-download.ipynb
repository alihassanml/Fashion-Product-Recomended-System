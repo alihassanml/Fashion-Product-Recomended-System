{
 "cells": [
  {
   "cell_type": "code",
   "execution_count": 1,
   "id": "aa1eff5b",
   "metadata": {
    "_cell_guid": "b1076dfc-b9ad-4769-8c92-a6c4dae69d19",
    "_uuid": "8f2839f25d086af736a60e9eeb907d3b93b6e0e5",
    "execution": {
     "iopub.execute_input": "2024-09-19T06:55:59.575214Z",
     "iopub.status.busy": "2024-09-19T06:55:59.574413Z",
     "iopub.status.idle": "2024-09-19T06:56:12.351147Z",
     "shell.execute_reply": "2024-09-19T06:56:12.350159Z"
    },
    "papermill": {
     "duration": 12.783411,
     "end_time": "2024-09-19T06:56:12.353425",
     "exception": false,
     "start_time": "2024-09-19T06:55:59.570014",
     "status": "completed"
    },
    "tags": []
   },
   "outputs": [],
   "source": [
    "import pandas as pd\n",
    "import tensorflow as tf\n",
    "import numpy as np\n",
    "import matplotlib.pyplot as plt\n",
    "import matplotlib.image as imd\n",
    "from tensorflow.keras.preprocessing.image import load_img,img_to_array\n",
    "from tensorflow.keras.applications.resnet50 import ResNet50,preprocess_input\n",
    "from tensorflow.keras.layers import Flatten,GlobalMaxPool2D\n",
    "from numpy.linalg import norm\n",
    "import os\n",
    "from tqdm import tqdm\n",
    "path = '/kaggle/input/fashion-product-images-dataset/fashion-dataset/images'"
   ]
  },
  {
   "cell_type": "code",
   "execution_count": 2,
   "id": "b6cee81a",
   "metadata": {
    "execution": {
     "iopub.execute_input": "2024-09-19T06:56:12.359630Z",
     "iopub.status.busy": "2024-09-19T06:56:12.359107Z",
     "iopub.status.idle": "2024-09-19T07:18:31.650740Z",
     "shell.execute_reply": "2024-09-19T07:18:31.649620Z"
    },
    "papermill": {
     "duration": 1339.296791,
     "end_time": "2024-09-19T07:18:31.652836",
     "exception": false,
     "start_time": "2024-09-19T06:56:12.356045",
     "status": "completed"
    },
    "tags": []
   },
   "outputs": [
    {
     "name": "stderr",
     "output_type": "stream",
     "text": [
      "100%|██████████| 44441/44441 [22:18<00:00, 33.21it/s]\n"
     ]
    }
   ],
   "source": [
    "preprocess_image_data_list = []\n",
    "for image in tqdm(os.listdir(path)):\n",
    "    img_path = os.path.join(path, image)\n",
    "    img = load_img(img_path, target_size=(224, 224))\n",
    "    img_array = img_to_array(img)\n",
    "    preprocess_image_data_list.append(img_array)"
   ]
  },
  {
   "cell_type": "code",
   "execution_count": 3,
   "id": "321e208d",
   "metadata": {
    "execution": {
     "iopub.execute_input": "2024-09-19T07:18:33.305264Z",
     "iopub.status.busy": "2024-09-19T07:18:33.304868Z"
    },
    "papermill": {
     "duration": 22.179938,
     "end_time": "2024-09-19T07:18:54.681363",
     "exception": false,
     "start_time": "2024-09-19T07:18:32.501425",
     "status": "completed"
    },
    "tags": []
   },
   "outputs": [],
   "source": [
    "import pickle\n",
    "pickle.dump(preprocess_image_data_list,open('image_data.pkl','wb'))"
   ]
  },
  {
   "cell_type": "code",
   "execution_count": null,
   "id": "7d1784d9",
   "metadata": {
    "execution": {
     "iopub.execute_input": "2024-09-19T06:42:40.406599Z",
     "iopub.status.busy": "2024-09-19T06:42:40.406042Z"
    },
    "papermill": {
     "duration": null,
     "end_time": null,
     "exception": null,
     "start_time": null,
     "status": "completed"
    },
    "tags": []
   },
   "outputs": [],
   "source": [
    "import gzip\n",
    "name = '/kaggle/working/image_data.pkl'\n",
    "output = 'compressed_image_data.pkl.gz'\n",
    "with open(name, 'rb') as f_in:\n",
    "    with gzip.open(output, 'wb') as f_out:\n",
    "        f_out.write(f_in.read())"
   ]
  },
  {
   "cell_type": "code",
   "execution_count": null,
   "id": "6bc21c75",
   "metadata": {
    "papermill": {
     "duration": null,
     "end_time": null,
     "exception": null,
     "start_time": null,
     "status": "completed"
    },
    "tags": []
   },
   "outputs": [],
   "source": []
  }
 ],
 "metadata": {
  "kaggle": {
   "accelerator": "gpu",
   "dataSources": [
    {
     "datasetId": 139630,
     "sourceId": 329006,
     "sourceType": "datasetVersion"
    }
   ],
   "dockerImageVersionId": 30762,
   "isGpuEnabled": true,
   "isInternetEnabled": true,
   "language": "python",
   "sourceType": "notebook"
  },
  "kernelspec": {
   "display_name": "Python 3",
   "language": "python",
   "name": "python3"
  },
  "language_info": {
   "codemirror_mode": {
    "name": "ipython",
    "version": 3
   },
   "file_extension": ".py",
   "mimetype": "text/x-python",
   "name": "python",
   "nbconvert_exporter": "python",
   "pygments_lexer": "ipython3",
   "version": "3.10.14"
  },
  "papermill": {
   "default_parameters": {},
   "duration": 1378.810772,
   "end_time": "2024-09-19T07:18:55.694242",
   "environment_variables": {},
   "exception": null,
   "input_path": "__notebook__.ipynb",
   "output_path": "__notebook__.ipynb",
   "parameters": {},
   "start_time": "2024-09-19T06:55:56.883470",
   "version": "2.6.0"
  }
 },
 "nbformat": 4,
 "nbformat_minor": 5
}
